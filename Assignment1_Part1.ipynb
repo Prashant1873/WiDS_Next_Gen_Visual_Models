{
  "cells": [
    {
      "cell_type": "markdown",
      "metadata": {
        "id": "wmkQjVSrsyJO"
      },
      "source": [
        "## Assignment 1 Part 1"
      ]
    },
    {
      "cell_type": "code",
      "execution_count": null,
      "metadata": {
        "colab": {
          "base_uri": "https://localhost:8080/"
        },
        "id": "aEjbL4FEsyJP",
        "outputId": "96d071d5-c3d9-40d0-eda1-8c69009069fe"
      },
      "outputs": [
        {
          "name": "stdout",
          "output_type": "stream",
          "text": [
            "n = 3.4\n"
          ]
        }
      ],
      "source": [
        "# Take value of n (dtype = float) as an input from user and print it\n",
        "n = float(input(\"n = \"))"
      ]
    },
    {
      "cell_type": "code",
      "execution_count": null,
      "metadata": {
        "colab": {
          "base_uri": "https://localhost:8080/"
        },
        "id": "jLCQ5hcCsyJQ",
        "outputId": "2ef6e325-ac84-4d9e-e50e-a5c8731ab33e"
      },
      "outputs": [
        {
          "output_type": "stream",
          "name": "stdout",
          "text": [
            "n = 3.4\n",
            "n = 4.56\n",
            "n = 5\n",
            "n=5 is an integer\n",
            "n=5 is odd\n"
          ]
        }
      ],
      "source": [
        "while True:\n",
        "    if n.is_integer():  # Check if n is an integer\n",
        "        n = int(n)      # Convert n to an integer for further processing\n",
        "        print(f\"n={n} is an integer\")\n",
        "        break           # Exit the loop\n",
        "    else:\n",
        "        n = float(input(\"n = \"))\n",
        "\n",
        "# Check whether the integral input value is even or odd\n",
        "if n % 2 == 0:\n",
        "    print(f\"n={n} is even\")\n",
        "else:\n",
        "    print(f\"n={n} is odd\")"
      ]
    },
    {
      "cell_type": "code",
      "execution_count": null,
      "metadata": {
        "colab": {
          "base_uri": "https://localhost:8080/",
          "height": 237
        },
        "id": "wFZw4k-WsyJQ",
        "outputId": "c89cc511-83c1-42c7-9891-bde88763f668"
      },
      "outputs": [
        {
          "name": "stdout",
          "output_type": "stream",
          "text": [
            "Enter the number of elements in the array: 1 2 3 4 5\n"
          ]
        },
        {
          "output_type": "error",
          "ename": "ValueError",
          "evalue": "invalid literal for int() with base 10: '1 2 3 4 5'",
          "traceback": [
            "\u001b[0;31m---------------------------------------------------------------------------\u001b[0m",
            "\u001b[0;31mValueError\u001b[0m                                Traceback (most recent call last)",
            "\u001b[0;32m<ipython-input-31-0fbdea321b50>\u001b[0m in \u001b[0;36m<cell line: 4>\u001b[0;34m()\u001b[0m\n\u001b[1;32m      2\u001b[0m \u001b[0;32mimport\u001b[0m \u001b[0mnumpy\u001b[0m \u001b[0;32mas\u001b[0m \u001b[0mnp\u001b[0m\u001b[0;34m\u001b[0m\u001b[0;34m\u001b[0m\u001b[0m\n\u001b[1;32m      3\u001b[0m \u001b[0;34m\u001b[0m\u001b[0m\n\u001b[0;32m----> 4\u001b[0;31m \u001b[0mn\u001b[0m \u001b[0;34m=\u001b[0m \u001b[0mint\u001b[0m\u001b[0;34m(\u001b[0m\u001b[0minput\u001b[0m\u001b[0;34m(\u001b[0m\u001b[0;34m\"Enter the number of elements in the array: \"\u001b[0m\u001b[0;34m)\u001b[0m\u001b[0;34m)\u001b[0m  \u001b[0;31m# Take the size of the array\u001b[0m\u001b[0;34m\u001b[0m\u001b[0;34m\u001b[0m\u001b[0m\n\u001b[0m\u001b[1;32m      5\u001b[0m \u001b[0marr\u001b[0m \u001b[0;34m=\u001b[0m \u001b[0mnp\u001b[0m\u001b[0;34m.\u001b[0m\u001b[0marray\u001b[0m\u001b[0;34m(\u001b[0m\u001b[0;34m[\u001b[0m\u001b[0mfloat\u001b[0m\u001b[0;34m(\u001b[0m\u001b[0minput\u001b[0m\u001b[0;34m(\u001b[0m\u001b[0;34mf\"Enter element {i+1}: \"\u001b[0m\u001b[0;34m)\u001b[0m\u001b[0;34m)\u001b[0m \u001b[0;32mfor\u001b[0m \u001b[0mi\u001b[0m \u001b[0;32min\u001b[0m \u001b[0mrange\u001b[0m\u001b[0;34m(\u001b[0m\u001b[0mn\u001b[0m\u001b[0;34m)\u001b[0m\u001b[0;34m]\u001b[0m\u001b[0;34m)\u001b[0m  \u001b[0;31m# Take n elements as input and create a NumPy array\u001b[0m\u001b[0;34m\u001b[0m\u001b[0;34m\u001b[0m\u001b[0m\n\u001b[1;32m      6\u001b[0m \u001b[0;34m\u001b[0m\u001b[0m\n",
            "\u001b[0;31mValueError\u001b[0m: invalid literal for int() with base 10: '1 2 3 4 5'"
          ]
        }
      ],
      "source": [
        "# Define an array and take its elements as input\n",
        "import numpy as np\n",
        "\n",
        "n = int(input(\"Enter the number of elements in the array: \"))  # Take the size of the array\n",
        "arr = np.array([float(input(f\"Enter element {i+1}: \")) for i in range(n)])  # Take n elements as input and create a NumPy array\n",
        "\n",
        "\n",
        "\n",
        "\n",
        "\n"
      ]
    },
    {
      "cell_type": "markdown",
      "metadata": {
        "id": "RJgRcF_fsyJR"
      },
      "source": [
        "A matrix is said to be **diagonally dominant** provided the\n",
        "magnitude of the diagonal element of each row is larger than\n",
        "the sum of the magnitudes of the off-diagonal elemets of that\n",
        "row"
      ]
    },
    {
      "cell_type": "code",
      "execution_count": null,
      "metadata": {
        "id": "7SmH88rwsyJR"
      },
      "outputs": [],
      "source": [
        "import numpy as np\n",
        "\n",
        "def diagonallyDominant(arr, verbose=False):\n",
        "    n = arr.shape[0]\n",
        "\n",
        "    for i in range(n):\n",
        "        # Find the index of the maximum element in the row\n",
        "        max_idx = np.argmax(np.abs(arr[i, :]))\n",
        "\n",
        "        # If the maximum element is not already on the diagonal\n",
        "        if max_idx != i:\n",
        "            # Swap the diagonal element with the maximum element\n",
        "            arr[i, i], arr[i, max_idx] = arr[i, max_idx], arr[i, i]\n",
        "\n",
        "            if verbose:\n",
        "                print(f\"Step {i+1}: Swapping {arr[i, i]} with {arr[i, max_idx]} in row {i+1}\")\n",
        "                print(arr)\n",
        "                print(\"_\"*100, \"\\n\")\n",
        "\n",
        "    return arr\n",
        "\n",
        "\n",
        "# Example Usage\n",
        "arr = np.array([[  90 ,  69 ,   0 ,  -1 ,  -3],\n",
        " [   4  ,  2  ,  3  ,  7 , 406],\n",
        " [  11 , -12 ,  -3 ,  43 ,  33],\n",
        " [   7  ,  7  , -1  ,  -9 ,-100],\n",
        " [ 100 ,  62  ,  2  ,  1 ,  11]])\n",
        "print(\"Original matrix: \")\n",
        "print(arr)\n",
        "print(\"_\"*100, \"\\n\")\n",
        "\n",
        "A = diagonallyDominant(arr, verbose=True)\n",
        "print(\"_\"*100, \"\\n\")\n",
        "\n",
        "print(\"Matrix obtained is: \")\n",
        "print(A)"
      ]
    },
    {
      "cell_type": "code",
      "execution_count": null,
      "metadata": {
        "id": "Fu7LsXCzsyJR"
      },
      "outputs": [],
      "source": [
        "## Check the changed matrix (matrix obatined above) is diagonally dominant or not?\n",
        "\n",
        "row_sum = 0\n",
        "cnt = 0\n",
        "arr = A\n",
        "\n",
        "for i in range(n):\n",
        "    row_sum = 0\n",
        "    for j in range(n):\n",
        "        if i != j:\n",
        "            row_sum += abs(arr[i, j])\n",
        "\n",
        "    if abs(arr[i, i]) <= row_sum:\n",
        "        cnt += 1\n",
        "\n",
        "if cnt == 0:\n",
        "    print(f\"{A} is diagonally dominant\")\n",
        "else:\n",
        "    print(f\"{A} \\n is not diagonally dominant\")"
      ]
    },
    {
      "cell_type": "code",
      "execution_count": null,
      "metadata": {
        "id": "piFO4pPbsyJR"
      },
      "outputs": [],
      "source": [
        "# Check which row creates the problem if the matrix is not diagonally dominant\n",
        "# And print that row indexes with elements\n",
        "\n",
        "row_sum = 0\n",
        "non_dominant_rows = []\n",
        "\n",
        "for i in range(n):\n",
        "    row_sum = 0\n",
        "    for j in range(n):\n",
        "        if i != j:\n",
        "            row_sum += abs(arr[i, j])\n",
        "\n",
        "    if abs(arr[i, i]) < row_sum:\n",
        "        non_dominant_rows.append(i)\n",
        "\n",
        "if len(non_dominant_rows) == 0:\n",
        "    print(f\"{A} is diagonally dominant\")\n",
        "else:\n",
        "    print(f\"{A} \\n is not diagonally dominant\")\n",
        "    print(\"Non-dominant rows:\")\n",
        "    for row_idx in non_dominant_rows:\n",
        "        print(f\"Row {row_idx+1}: {A[row_idx]}\")\n",
        "\n",
        "\n"
      ]
    },
    {
      "cell_type": "code",
      "execution_count": null,
      "metadata": {
        "id": "Mq6hGgu4syJS"
      },
      "outputs": [],
      "source": [
        "import numpy as np\n",
        "import matplotlib.pyplot as plt\n",
        "\n",
        "# Define the activation functions\n",
        "def relu(x):\n",
        "    return np.maximum(0, x)\n",
        "\n",
        "def sigmoid(x):\n",
        "    return 1 / (1 + np.exp(-x))\n",
        "\n",
        "def tanh(x):\n",
        "    return np.tanh(x)\n",
        "\n",
        "# Generate x values\n",
        "x = np.linspace(-100, 100, 1000)\n",
        "\n",
        "# Calculate y values for each function using a for loop\n",
        "y_relu = []\n",
        "y_sigmoid = []\n",
        "y_tanh = []\n",
        "\n",
        "for i in range(len(x)):\n",
        "    y_relu.append(relu(x[i]))\n",
        "    y_sigmoid.append(sigmoid(x[i]))\n",
        "    y_tanh.append(tanh(x[i]))\n",
        "\n",
        "# Convert the lists to NumPy arrays for efficient plotting\n",
        "y_relu = np.array(y_relu)\n",
        "y_sigmoid = np.array(y_sigmoid)\n",
        "y_tanh = np.array(y_tanh)\n",
        "\n",
        "# Plot the functions\n",
        "plt.figure(figsize=(10, 6))\n",
        "\n",
        "# Plot ReLU on a separate plot\n",
        "plt.subplot(2, 1, 1)\n",
        "plt.plot(x, y_relu, label='ReLU')\n",
        "plt.title('ReLU Activation Function')\n",
        "plt.xlabel('x')\n",
        "plt.ylabel('ReLU(x)')\n",
        "plt.grid(True)\n",
        "\n",
        "# Plot Sigmoid and Tanh on the same plot\n",
        "plt.subplot(2, 1, 2)\n",
        "plt.plot(x, y_sigmoid, label='Sigmoid')\n",
        "plt.plot(x, y_tanh, label='Tanh')\n",
        "plt.title('Sigmoid and Tanh Activation Functions')\n",
        "plt.xlabel('x')\n",
        "plt.ylabel('Activation')\n",
        "plt.legend()\n",
        "plt.grid(True)\n",
        "\n",
        "plt.tight_layout()\n",
        "plt.show()"
      ]
    },
    {
      "cell_type": "code",
      "execution_count": null,
      "metadata": {
        "id": "yuh9C7YMsyJS",
        "outputId": "c372c099-b124-4a9a-f7ad-c395dc665004",
        "colab": {
          "base_uri": "https://localhost:8080/",
          "height": 564
        }
      },
      "outputs": [
        {
          "output_type": "display_data",
          "data": {
            "text/plain": [
              "<Figure size 1000x600 with 1 Axes>"
            ],
            "image/png": "[encoded data removed]"
          },
          "metadata": {}
        }
      ],
      "source": [
        "import numpy as np\n",
        "import matplotlib.pyplot as plt\n",
        "\n",
        "# Define the activation functions\n",
        "def relu(x):\n",
        "    return np.maximum(0, x)\n",
        "\n",
        "def sigmoid(x):\n",
        "    return 1 / (1 + np.exp(-x))\n",
        "\n",
        "def tanh(x):\n",
        "    return np.tanh(x)\n",
        "\n",
        "# Generate diagonal element values\n",
        "x = np.linspace(-100, 100, 10)  # Adjust the number of points for desired density\n",
        "\n",
        "# Calculate activations for diagonal elements\n",
        "y_relu = relu(x)\n",
        "y_sigmoid = sigmoid(x)\n",
        "y_tanh = tanh(x)\n",
        "\n",
        "# Create a scatter plot\n",
        "plt.figure(figsize=(10, 6))\n",
        "plt.scatter(x, y_relu, label='ReLU', color='blue', marker='o')\n",
        "plt.scatter(x, y_sigmoid, label='Sigmoid', color='orange', marker='+')\n",
        "plt.scatter(x, y_tanh, label='Tanh', color='green', marker='*')\n",
        "plt.title('Activation Functions (Diagonal Elements)')\n",
        "plt.xlabel('Diagonal Element Value')\n",
        "plt.ylabel('Activation')\n",
        "plt.legend()\n",
        "plt.grid(True)\n",
        "plt.show()"
      ]
    },
    {
      "cell_type": "code",
      "execution_count": null,
      "metadata": {
        "id": "96_LJ7sXsyJS",
        "outputId": "5f0cbe07-fa74-4f44-e885-dfa089c0db6b",
        "colab": {
          "base_uri": "https://localhost:8080/"
        }
      },
      "outputs": [
        {
          "output_type": "stream",
          "name": "stdout",
          "text": [
            "Softmax values of the diagonal elements: [0.14884758 0.40460968 0.14884758 0.14884758 0.14884758]\n"
          ]
        }
      ],
      "source": [
        "import numpy as np\n",
        "\n",
        "def softmax(arr):\n",
        "    \"\"\"Calculates the softmax function for the diagonal elements of a matrix.\n",
        "\n",
        "    Args:\n",
        "        arr: A numpy array representing the matrix.\n",
        "\n",
        "    Returns:\n",
        "        A numpy array containing the softmax values of the diagonal elements.\n",
        "    \"\"\"\n",
        "\n",
        "    n = arr.shape[0]\n",
        "    dd = []\n",
        "\n",
        "    for i in range(n):\n",
        "        diagonal_element = arr[i, i]\n",
        "        exp_value = np.exp(diagonal_element)\n",
        "        dd.append(exp_value)\n",
        "\n",
        "    softmax_values = np.array(dd) / np.sum(dd)\n",
        "    return softmax_values\n",
        "\n",
        "softmax_result = softmax(arr)\n",
        "print(\"Softmax values of the diagonal elements:\", softmax_result)"
      ]
    },
    {
      "cell_type": "code",
      "execution_count": null,
      "metadata": {
        "id": "7SbQ8I-nsyJT",
        "outputId": "978e68b3-beea-4d19-8ec0-7e1f47233444",
        "colab": {
          "base_uri": "https://localhost:8080/",
          "height": 564
        }
      },
      "outputs": [
        {
          "output_type": "display_data",
          "data": {
            "text/plain": [
              "<Figure size 800x600 with 1 Axes>"
            ],
            "image/png": "[encoded data removed]"
          },
          "metadata": {}
        }
      ],
      "source": [
        "import numpy as np\n",
        "import matplotlib.pyplot as plt\n",
        "\n",
        "def softmax(arr):\n",
        "    diagonal_elements = np.diag(arr)\n",
        "    exp_values = np.exp(diagonal_elements)\n",
        "    softmax_values = exp_values / np.sum(exp_values)\n",
        "    return softmax_values\n",
        "\n",
        "# Generate diagonal elements\n",
        "diagonal_elements = np.linspace(-10, 10, 10)\n",
        "\n",
        "# Calculate softmax values\n",
        "softmax_values = softmax(np.diag(diagonal_elements))\n",
        "\n",
        "# Create a scatter plot with switched axes\n",
        "plt.figure(figsize=(8, 6))\n",
        "plt.scatter(softmax_values, diagonal_elements)\n",
        "plt.xlabel(\"Softmax Value\")\n",
        "plt.ylabel(\"Diagonal Element Value\")\n",
        "plt.title(\"Softmax Function for Diagonal Elements\")\n",
        "plt.grid(True)\n",
        "plt.show()"
      ]
    },
    {
      "cell_type": "code",
      "execution_count": null,
      "metadata": {
        "id": "PiZdZiH8syJT",
        "outputId": "30a85126-3262-43fc-91b5-f3159562c258",
        "colab": {
          "base_uri": "https://localhost:8080/"
        }
      },
      "outputs": [
        {
          "output_type": "stream",
          "name": "stdout",
          "text": [
            "90: Not a max element in all diagonal elements\n",
            "406: Max element in all diagonal elements\n",
            "43: Not a max element in all diagonal elements\n"
          ]
        }
      ],
      "source": [
        "import numpy as np\n",
        "\n",
        "def find_max_element(arr):\n",
        "    \"\"\"Finds the index of the maximum element in a matrix using softmax.\n",
        "\n",
        "    Args:\n",
        "        arr: A numpy array representing the matrix.\n",
        "\n",
        "    Returns:\n",
        "        The index of the maximum element.\n",
        "    \"\"\"\n",
        "\n",
        "    diagonal_elements = np.diag(arr)\n",
        "    softmax_values = np.exp(diagonal_elements) / np.sum(np.exp(diagonal_elements))\n",
        "    max_index = np.argmax(softmax_values)\n",
        "\n",
        "    return max_index\n",
        "\n",
        "max_index = find_max_index(arr)\n",
        "max_element = arr[max_index, max_index]\n",
        "\n",
        "for i in range(arr.shape[0]):\n",
        "    diagonal_element = arr[i, i]\n",
        "    if diagonal_element == max_element:\n",
        "        print(f\"{diagonal_element}: Max element in all diagonal elements\")\n",
        "    else:\n",
        "        print(f\"{diagonal_element}: Not a max element in all diagonal elements\")"
      ]
    },
    {
      "cell_type": "markdown",
      "metadata": {
        "id": "2T992f2dsyJT"
      },
      "source": [
        "**What Conclusion could you draw from softmax function?**\n",
        "\n",
        "The softmax function is a powerful tool in machine learning, particularly in classification tasks. Here are some key conclusions we can draw from its behavior:\n",
        "\n",
        "**Probability Distribution:**\n",
        "The softmax function maps a set of real numbers to a probability distribution.\n",
        "Each output value represents the probability of a particular class, and the sum of all probabilities equals 1.\n",
        "\n",
        "**Sensitivity to Input Differences:**\n",
        "The softmax function is sensitive to differences in input values.\n",
        "A small difference in input values can lead to significant differences in output probabilities.\n",
        "\n",
        "**Maximum Value Dominance:**\n",
        "The class with the highest input value tends to have a higher probability, but other classes still have non-zero probabilities.\n",
        "This can be useful in scenarios where multiple classes might be relevant.\n",
        "\n",
        "**Smoothness:**\n",
        "The softmax function is smooth and differentiable, making it suitable for gradient-based optimization techniques like backpropagation.\n",
        "Applications:\n",
        "\n",
        "**Multi-class Classification:**\n",
        "Softmax is widely used in multi-class classification problems, such as image classification and natural language processing.\n",
        "\n",
        "**Neural Networks:** It's a common activation function in the output layer of neural networks for classification tasks.\n",
        "\n",
        "\n",
        "\n",
        "\n"
      ]
    }
  ],
  "metadata": {
    "kernelspec": {
      "display_name": "myenv",
      "language": "python",
      "name": "python3"
    },
    "language_info": {
      "codemirror_mode": {
        "name": "ipython",
        "version": 3
      },
      "file_extension": ".py",
      "mimetype": "text/x-python",
      "name": "python",
      "nbconvert_exporter": "python",
      "pygments_lexer": "ipython3",
      "version": "3.9.19"
    },
    "colab": {
      "provenance": []
    }
  },
  "nbformat": 4,
  "nbformat_minor": 0
}